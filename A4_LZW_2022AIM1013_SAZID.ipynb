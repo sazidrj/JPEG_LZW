{
 "cells": [
  {
   "cell_type": "markdown",
   "id": "011d5d65",
   "metadata": {},
   "source": [
    "# LZW Encoder & Decoder"
   ]
  },
  {
   "cell_type": "markdown",
   "id": "0c47bf52",
   "metadata": {},
   "source": [
    "#### LZW_encoder:\n",
    "        Input:  image filename, block size, Codes size    //convert to grayscale if input image is color\n",
    "        Output: LZW coded file, max value of any code i.e. used,  # of codes, compression ratio\n",
    "achieved, Avg. length of encoded pixels, Entropy\n",
    "                     \n",
    "//LZW coded filename e.g. img1_lzwcode.txt.  (one row for one block and assume first row has 3 integers: height and width values of image and block size)\n",
    "\n",
    "Assumptions / constraint: \n",
    " block size will be 4, 8,16, 32, 64, 128, 256. And -1 indicates whole image\n",
    " Codes size is in bits and is mandatorily greater than 8. E.g. 9, 10, 11, 12, 16 \n",
    " Each block is separately coded (i.e. no impact of one block on other in terms of coding)\n",
    "\n",
    "#### LZW_decoder:\n",
    "     Input:  LZW coded filename (Image height, image width info there in file first row)\n",
    "     Output: Reconstructed grayscale image"
   ]
  },
  {
   "cell_type": "code",
   "execution_count": 1,
   "id": "73b0a3aa",
   "metadata": {},
   "outputs": [],
   "source": [
    "import pandas as pd\n",
    "import numpy as np\n",
    "import matplotlib.pylab as plt\n",
    "import cv2"
   ]
  },
  {
   "cell_type": "code",
   "execution_count": 2,
   "id": "c692bf26",
   "metadata": {},
   "outputs": [
    {
     "data": {
      "text/plain": [
       "(-0.5, 1023.5, 1023.5, -0.5)"
      ]
     },
     "execution_count": 2,
     "metadata": {},
     "output_type": "execute_result"
    },
    {
     "data": {
      "image/png": "[encoded data removed]",
      "text/plain": [
       "<Figure size 640x480 with 1 Axes>"
      ]
     },
     "metadata": {},
     "output_type": "display_data"
    }
   ],
   "source": [
    "img_rgb = cv2.imread('Image/Some Images/checkerboard1024.tif')\n",
    "img_gray = cv2.cvtColor(img_rgb, cv2.COLOR_BGR2GRAY)\n",
    "\n",
    "plt.imshow(img_gray, cmap=\"gray\")\n",
    "plt.axis('off')"
   ]
  },
  {
   "cell_type": "code",
   "execution_count": 3,
   "id": "d6cb9dfc",
   "metadata": {},
   "outputs": [
    {
     "data": {
      "text/plain": [
       "(1024, 1024)"
      ]
     },
     "execution_count": 3,
     "metadata": {},
     "output_type": "execute_result"
    }
   ],
   "source": [
    "img_gray.shape"
   ]
  },
  {
   "cell_type": "code",
   "execution_count": 4,
   "id": "5fcc1b1a",
   "metadata": {},
   "outputs": [],
   "source": [
    "'''\n",
    "This function convert the image into image which will divisible by block size by adding padding to rows and columns\n",
    "of the image\n",
    "''' \n",
    "\n",
    "def convert_img_div_by_block_size_gray(img__gray, b_s):\n",
    "    rows, cols = img_gray.shape\n",
    "#     print(img_gray.shape)\n",
    "    \n",
    "    rows_rem = rows % b_s\n",
    "    cols_rem = cols % b_s\n",
    "    \n",
    "    if rows_rem != 0:\n",
    "        new_rows = rows + (b_s - rows_rem)\n",
    "    else:\n",
    "        new_rows = rows\n",
    "        \n",
    "    if cols_rem != 0:\n",
    "        new_cols = cols + (b_s - cols_rem)\n",
    "    else:\n",
    "        new_cols = cols\n",
    "    \n",
    "    new_img = np.zeros(((new_rows, new_cols)), dtype=np.uint8)\n",
    "    new_img[:rows, :cols] = img_gray\n",
    "    \n",
    "    return new_img"
   ]
  },
  {
   "cell_type": "code",
   "execution_count": 5,
   "id": "84153534",
   "metadata": {},
   "outputs": [],
   "source": [
    "'''\n",
    "This function initialize the initial dictionary. Keys are tuple and values are integer\n",
    "(1) = 1 , (2) = 2, (3) = 3, . . . . , (255) = 255\n",
    "'''\n",
    "\n",
    "def initialize_dictionary():\n",
    "    dictionary = dict()\n",
    "    \n",
    "    for i in range(256):\n",
    "        dictionary[(i,)] = i\n",
    "            \n",
    "    return dictionary"
   ]
  },
  {
   "cell_type": "code",
   "execution_count": 6,
   "id": "70608ea2",
   "metadata": {},
   "outputs": [],
   "source": [
    "# Entropy function\n",
    "def find_entropy(encoded_arr):\n",
    "    dictionary = dict()\n",
    "    \n",
    "    for ele in encoded_arr:\n",
    "        if ele not in dictionary:\n",
    "            dictionary[ele] = 1\n",
    "        else:\n",
    "            dictionary[ele] = dictionary[ele] + 1\n",
    "    \n",
    "    total_px = len(encoded_arr)\n",
    "    \n",
    "    entropy = 0\n",
    "    \n",
    "    for val in list(dictionary.values()):\n",
    "        p = val/total_px\n",
    "        entropy += (p*np.log2(p))\n",
    "        \n",
    "    return  -entropy"
   ]
  },
  {
   "cell_type": "code",
   "execution_count": 7,
   "id": "d78e5dff",
   "metadata": {},
   "outputs": [],
   "source": [
    "'''\n",
    "This is LZW encoder helper function which decode the given single block of the image \n",
    "'''\n",
    "def LZW_encoder_helper(block, code_size):\n",
    "    dictionary = initialize_dictionary()\n",
    "        \n",
    "    idx = 256\n",
    "    maxi_idx = 1 << code_size\n",
    "\n",
    "    encoded_out = []\n",
    "\n",
    "    rows, cols = block.shape\n",
    "\n",
    "    px_being_proc = (block[0,0],)\n",
    "    cur_rec_seq = tuple()\n",
    "              \n",
    "    for i in range(rows):\n",
    "        for j in range(cols):\n",
    "            if i == 0 and j == 0:\n",
    "                cur_rec_seq = px_being_proc\n",
    "                continue\n",
    "            \n",
    "            px_being_proc = (block[i,j],)        \n",
    "            new_seq = cur_rec_seq + px_being_proc\n",
    "\n",
    "            if new_seq not in dictionary:                \n",
    "                encoded_out.append(dictionary[cur_rec_seq])\n",
    "                \n",
    "                if idx <= maxi_idx:\n",
    "                    dictionary[new_seq] = idx\n",
    "                    idx += 1  \n",
    "                cur_rec_seq = px_being_proc\n",
    "            else:\n",
    "                cur_rec_seq = new_seq\n",
    "    encoded_out.append(dictionary[cur_rec_seq])            \n",
    "    encoded_out = np.array(encoded_out) \n",
    "    \n",
    "    return encoded_out\n",
    "       "
   ]
  },
  {
   "cell_type": "markdown",
   "id": "8c308652",
   "metadata": {},
   "source": [
    "## LZW Encoder"
   ]
  },
  {
   "cell_type": "code",
   "execution_count": 8,
   "id": "a1a19ba9",
   "metadata": {},
   "outputs": [],
   "source": [
    "def LZW_encoder(img, block_sz, code_sz):\n",
    "    \n",
    "    img_rgb = cv2.imread('Image/Some Images/' + img)\n",
    "    img_gray = cv2.cvtColor(img_rgb, cv2.COLOR_BGR2GRAY)\n",
    "    \n",
    "    if block_sz == -1:\n",
    "        block_sz = max(img_gray.shape[0], img_gray.shape[1])\n",
    "          \n",
    "    img_gray = convert_img_div_by_block_size_gray(img_gray, block_sz)\n",
    "    \n",
    "    rows, cols = img_gray.shape\n",
    "    num_blocks = (rows*cols) / (block_sz*block_sz)\n",
    "    \n",
    "    f = open('img1_lzwcode.txt','w')\n",
    "    \n",
    "    f.write(str(rows) + ' ' + str(cols) + ' ' + str(block_sz) + '\\n')\n",
    "    encoded_out_g = []\n",
    "    \n",
    "    max_val_code = 0\n",
    "    num_codes = 0\n",
    "    compression_ratio = rows * cols \n",
    "    avg_len = 0\n",
    "    entropy = 0\n",
    "    \n",
    "    for i in range(0, rows, block_sz):\n",
    "        for j in range(0, cols, block_sz):\n",
    "            block = img_gray[i:i+block_sz, j:j+block_sz]\n",
    "            encoded_out = LZW_encoder_helper(block, code_sz)\n",
    "            encoded_out_g.append(encoded_out)\n",
    "            \n",
    "            # Finding avg length per pixel for one block\n",
    "            num_encoded_px = len(encoded_out)\n",
    "            num_encoded_px *= code_sz\n",
    "            num_encoded_px /= (block_sz * block_sz)\n",
    "            avg_len += num_encoded_px\n",
    "            entropy += find_entropy(encoded_out)\n",
    "            \n",
    "            temp_max = np.max(encoded_out)\n",
    "            \n",
    "            if max_val_code < temp_max:\n",
    "                max_val_code = temp_max\n",
    "             \n",
    "            num_codes += len(encoded_out)\n",
    "            \n",
    "            \n",
    "            for code in encoded_out:\n",
    "                f.write(str(code) + ' ')\n",
    "            f.write('\\n')    \n",
    "    \n",
    "    avg_len /= (num_blocks)\n",
    "    entropy /= (num_blocks)\n",
    "    c_r = compression_ratio / (num_codes)\n",
    "#     print(f\"Maximum value of codes = {max_val_code}\")\n",
    "#     print(f\"Number of codes = {num_codes}\")\n",
    "#     print(f\"Compression Ratio = {c_r}\")\n",
    "#     print(f\"Average length per pixel = {avg_len}\")\n",
    "#     print(f\"Entropy = {entropy}\") \n",
    "    \n",
    "    return encoded_out_g,max_val_code, num_codes, c_r, avg_len, entropy\n",
    "        "
   ]
  },
  {
   "cell_type": "code",
   "execution_count": 9,
   "id": "563f305b",
   "metadata": {},
   "outputs": [],
   "source": [
    "encoded_img, max_val_code, num_codes, c_r, avg_len, entropy = LZW_encoder(\"checkerboard1024.tif\",8, 9)"
   ]
  },
  {
   "cell_type": "code",
   "execution_count": 10,
   "id": "ce5f6ade",
   "metadata": {},
   "outputs": [],
   "source": [
    "def convert_file_to_arr(filename): \n",
    "    rows, cols, block_sz = 0, 0, 0\n",
    "    \n",
    "    with open(filename,'r') as file:\n",
    "        rows, cols, block_sz = map(int, file.readline().split())\n",
    "        encoded_integers = []\n",
    "        for line in file:\n",
    "            values = line.strip().split()\n",
    "            encoded_integers.append(list(map(int, values)))\n",
    "                        \n",
    "    return rows, cols, block_sz, encoded_integers"
   ]
  },
  {
   "cell_type": "code",
   "execution_count": 11,
   "id": "348bbccb",
   "metadata": {},
   "outputs": [],
   "source": [
    "def LZW_decoder(filename, code_size):\n",
    "    rows, cols, block_sz, encoded_arr = convert_file_to_arr(filename)  \n",
    "    \n",
    "    if block_sz == -1:\n",
    "        block_sz = max(rows, cols)\n",
    "        \n",
    "    decoded_img = np.zeros((rows,cols))\n",
    "    \n",
    "    r,c = 0,0\n",
    "\n",
    "    for block in range(len(encoded_arr)):\n",
    "        arr = encoded_arr[block]\n",
    "               \n",
    "        dictionary = dict()\n",
    "        for i in range(0,256):\n",
    "            dictionary[i] = (i,)\n",
    "        idx = 256\n",
    "\n",
    "        result = [] \n",
    "        prefix = (arr[0],)\n",
    "        result.extend(prefix) \n",
    "        for code in arr[1:]:\n",
    "            if code not in dictionary: \n",
    "                entry = prefix + (prefix[0],)\n",
    "            else:\n",
    "                entry = dictionary[code]\n",
    "            result.extend(entry) \n",
    "            \n",
    "            if idx <= (1 << code_size):\n",
    "                dictionary[idx] = prefix + (entry[0],)\n",
    "                idx += 1\n",
    "              \n",
    "            prefix = entry \n",
    "          \n",
    "        \n",
    "        result = np.array(result).reshape((block_sz, block_sz))\n",
    "                \n",
    "        decoded_img[r:r+block_sz, c:c+block_sz] = result\n",
    "        \n",
    "        c = c+block_sz\n",
    "        \n",
    "        if c >= cols:\n",
    "            r = r+block_sz\n",
    "            c = 0\n",
    "        \n",
    "\n",
    "    return decoded_img   "
   ]
  },
  {
   "cell_type": "code",
   "execution_count": 12,
   "id": "0222aff8",
   "metadata": {},
   "outputs": [],
   "source": [
    "decoded_img = LZW_decoder(\"img1_lzwcode.txt\", 9)"
   ]
  },
  {
   "cell_type": "code",
   "execution_count": 13,
   "id": "4369e033",
   "metadata": {},
   "outputs": [
    {
     "data": {
      "text/plain": [
       "(-0.5, 1023.5, 1023.5, -0.5)"
      ]
     },
     "execution_count": 13,
     "metadata": {},
     "output_type": "execute_result"
    },
    {
     "data": {
      "image/png": "[encoded data removed]",
      "text/plain": [
       "<Figure size 640x480 with 1 Axes>"
      ]
     },
     "metadata": {},
     "output_type": "display_data"
    }
   ],
   "source": [
    "plt.imshow(decoded_img, cmap=\"gray\")\n",
    "plt.axis('off')"
   ]
  },
  {
   "cell_type": "code",
   "execution_count": null,
   "id": "cc07ae44",
   "metadata": {},
   "outputs": [],
   "source": [
    "from prettytable import PrettyTable\n",
    "  \n",
    "blc_lst = [4,8,16,32,64,128,256]\n",
    "code_sz_lst = [9,10,11,12,16]\n",
    "\n",
    "block_lst = []\n",
    "for blc in blc_lst:\n",
    "    a,b,c,d,e = [],[],[],[],[]\n",
    "    f = []\n",
    "    print(f\"Block size = {blc}\")\n",
    "    myTable = PrettyTable([\"Code size\", \"Max. Val Code\", \"Number of Code\", \"Compression Ratio\", \"Avg. Length\", \"Entropy\"])\n",
    "    for c_s in code_sz_lst:   \n",
    "        encoded_img, max_val_code, num_codes, c_r, avg_len, entropy = LZW_encoder(\"book-cover.tif\",blc, c_s)\n",
    "        myTable.add_row([c_s,max_val_code, num_codes, c_r, avg_len, entropy])\n",
    "        a.append(max_val_code)\n",
    "        b.append(num_codes)\n",
    "        c.append(c_r)\n",
    "        d.append(avg_len)\n",
    "        e.append(entropy)\n",
    "    f.append(a)\n",
    "    f.append(b)\n",
    "    f.append(c)\n",
    "    f.append(d)\n",
    "    f.append(e)\n",
    "    block_lst.append(f)\n",
    "    \n",
    "    print(myTable)    \n",
    "    "
   ]
  },
  {
   "cell_type": "code",
   "execution_count": null,
   "id": "efb16fe2",
   "metadata": {},
   "outputs": [],
   "source": [
    "for i in range(7):\n",
    "    plt.plot(code_sz_lst, block_lst[i][2])\n",
    "plt.title(\"Compression ratio vs code size w.r.t Block size\")    \n",
    "plt.xlabel(\"Code size\")\n",
    "plt.ylabel(\"Compression Ratio\")\n",
    "plt.legend(blc_lst)\n",
    "plt.show()"
   ]
  },
  {
   "cell_type": "code",
   "execution_count": null,
   "id": "079c28f8",
   "metadata": {},
   "outputs": [],
   "source": [
    "for i in range(7):\n",
    "    plt.plot(code_sz_lst, block_lst[i][3])\n",
    "plt.title(\"Avg. code length vs code size w.r.t Block size\")    \n",
    "plt.xlabel(\"Code size\")\n",
    "plt.ylabel(\"Avg. Code Length\")\n",
    "plt.legend(blc_lst)\n",
    "plt.show()"
   ]
  },
  {
   "cell_type": "code",
   "execution_count": null,
   "id": "48124262",
   "metadata": {},
   "outputs": [],
   "source": [
    "for i in range(7):\n",
    "    plt.plot(code_sz_lst, block_lst[i][4])\n",
    "plt.title(\"Entropy vs code size w.r.t Block size\")    \n",
    "plt.xlabel(\"Code size\")\n",
    "plt.ylabel(\"Entropy\")\n",
    "plt.legend(blc_lst)\n",
    "plt.show()"
   ]
  },
  {
   "cell_type": "code",
   "execution_count": null,
   "id": "19a65048",
   "metadata": {},
   "outputs": [],
   "source": [
    "for i in range(7):\n",
    "    plt.plot( code_sz_lst, block_lst[i][1])\n",
    "plt.title(\"Number of codes vs code size w.r.t Block size\")    \n",
    "plt.xlabel(\"Code size\")\n",
    "plt.ylabel(\"Number of codes\")\n",
    "plt.legend(blc_lst)\n",
    "plt.show()    "
   ]
  },
  {
   "cell_type": "code",
   "execution_count": null,
   "id": "d58f4b13",
   "metadata": {},
   "outputs": [],
   "source": []
  }
 ],
 "metadata": {
  "kernelspec": {
   "display_name": "Python 3 (ipykernel)",
   "language": "python",
   "name": "python3"
  },
  "language_info": {
   "codemirror_mode": {
    "name": "ipython",
    "version": 3
   },
   "file_extension": ".py",
   "mimetype": "text/x-python",
   "name": "python",
   "nbconvert_exporter": "python",
   "pygments_lexer": "ipython3",
   "version": "3.8.16"
  }
 },
 "nbformat": 4,
 "nbformat_minor": 5
}
